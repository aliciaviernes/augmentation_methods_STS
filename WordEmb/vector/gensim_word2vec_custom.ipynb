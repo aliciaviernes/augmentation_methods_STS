{
 "cells": [
  {
   "cell_type": "markdown",
   "source": [
    "# Train Vector Word Embeddings\r\n",
    "The script was run once.\r\n",
    "A bigger corpus was used for training Vector-suitable word embeddings."
   ],
   "metadata": {}
  },
  {
   "cell_type": "code",
   "execution_count": 7,
   "source": [
    "from util import *\r\n",
    "from nltk.tokenize import word_tokenize\r\n",
    "from gensim.models import Word2Vec"
   ],
   "outputs": [],
   "metadata": {}
  },
  {
   "cell_type": "markdown",
   "source": [
    "Path below is not valid."
   ],
   "metadata": {}
  },
  {
   "cell_type": "code",
   "execution_count": 8,
   "source": [
    "v_dataset = 'vector_wordemb_train.txt'\r\n",
    "data = list()\r\n",
    "with open(v_dataset, 'r') as f:\r\n",
    "    for line in f:\r\n",
    "        data.append(line.rstrip())"
   ],
   "outputs": [],
   "metadata": {}
  },
  {
   "cell_type": "code",
   "execution_count": 9,
   "source": [
    "def tokenize_set(data):\r\n",
    "    newData = list()\r\n",
    "    for row in data:\r\n",
    "        row = word_tokenize(row)\r\n",
    "        for i in range(len(row)):\r\n",
    "            row[i] = row[i].lower()\r\n",
    "        newData.append(row)\r\n",
    "    return newData"
   ],
   "outputs": [],
   "metadata": {}
  },
  {
   "cell_type": "code",
   "execution_count": 10,
   "source": [
    "sentences = tokenize_set(data)"
   ],
   "outputs": [],
   "metadata": {}
  },
  {
   "cell_type": "code",
   "execution_count": null,
   "source": [
    "print(sentences[:5])"
   ],
   "outputs": [],
   "metadata": {}
  },
  {
   "cell_type": "code",
   "execution_count": 12,
   "source": [
    "# train model\r\n",
    "model = Word2Vec(sentences, min_count=1)"
   ],
   "outputs": [],
   "metadata": {}
  },
  {
   "cell_type": "code",
   "execution_count": 13,
   "source": [
    "# summarize vocabulary\r\n",
    "words = list(model.wv.vocab)"
   ],
   "outputs": [],
   "metadata": {
    "tags": []
   }
  },
  {
   "cell_type": "code",
   "execution_count": null,
   "source": [
    "# # access vector for one word\r\n",
    "print(model['result'])"
   ],
   "outputs": [],
   "metadata": {}
  },
  {
   "cell_type": "code",
   "execution_count": 15,
   "source": [
    "# save model\r\n",
    "model.save('vector_model.bin')"
   ],
   "outputs": [],
   "metadata": {}
  }
 ],
 "metadata": {
  "kernelspec": {
   "name": "python3",
   "display_name": "Python 3.9.1 64-bit"
  },
  "language_info": {
   "codemirror_mode": {
    "name": "ipython",
    "version": 3
   },
   "file_extension": ".py",
   "mimetype": "text/x-python",
   "name": "python",
   "nbconvert_exporter": "python",
   "pygments_lexer": "ipython3",
   "version": "3.9.1"
  },
  "interpreter": {
   "hash": "e7370f93d1d0cde622a1f8e1c04877d8463912d04d973331ad4851f04de6915a"
  }
 },
 "nbformat": 4,
 "nbformat_minor": 4
}