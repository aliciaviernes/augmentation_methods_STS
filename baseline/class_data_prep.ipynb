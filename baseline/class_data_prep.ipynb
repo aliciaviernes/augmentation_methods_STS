{
 "cells": [
  {
   "cell_type": "markdown",
   "source": [
    "# Data preparation - MSRP, Vector data\r\n",
    "We run the following notebook once.\r\n",
    "For MSRP: Obtain DEV split.\r\n",
    "For Vector dataset: Split into TRAIN, DEV, TEST."
   ],
   "metadata": {}
  },
  {
   "cell_type": "code",
   "execution_count": 39,
   "source": [
    "import random\r\n",
    "import csv\r\n",
    "import numpy as np\r\n",
    "import pandas as pd"
   ],
   "outputs": [],
   "metadata": {}
  },
  {
   "cell_type": "markdown",
   "source": [
    "## Microsoft Research Paraphrase Corpus"
   ],
   "metadata": {}
  },
  {
   "cell_type": "code",
   "execution_count": 153,
   "source": [
    "# Changed path.\r\n",
    "path2data = \"data/datasets/MSRP/\""
   ],
   "outputs": [],
   "metadata": {}
  },
  {
   "cell_type": "markdown",
   "source": [
    "Use part of the training data as dev:"
   ],
   "metadata": {}
  },
  {
   "cell_type": "code",
   "execution_count": 154,
   "source": [
    "df = pd.read_csv(f\"{path2data}msr_paraphrase_train.csv\", sep='\\t')\r\n",
    "train, dev = np.split(df.sample(frac=1, random_state=42), \r\n",
    "                       [int(.85*len(df))]) # 85% training, 15% validation"
   ],
   "outputs": [],
   "metadata": {}
  },
  {
   "cell_type": "code",
   "execution_count": null,
   "source": [
    "len(train.index)"
   ],
   "outputs": [],
   "metadata": {}
  },
  {
   "cell_type": "code",
   "execution_count": null,
   "source": [
    "len(dev.index)"
   ],
   "outputs": [],
   "metadata": {}
  },
  {
   "cell_type": "code",
   "execution_count": null,
   "source": [
    "test = pd.read_csv(f\"{path2data}msr_paraphrase_test.csv\", sep='\\t')\r\n",
    "len(test.index)"
   ],
   "outputs": [],
   "metadata": {}
  },
  {
   "cell_type": "code",
   "execution_count": null,
   "source": [
    "len(df.index)"
   ],
   "outputs": [],
   "metadata": {}
  },
  {
   "cell_type": "code",
   "execution_count": 159,
   "source": [
    "dev.to_csv(f\"{path2data}msr_paraphrase_dev.csv\", index=False, sep='\\t')"
   ],
   "outputs": [],
   "metadata": {}
  },
  {
   "cell_type": "code",
   "execution_count": 160,
   "source": [
    "train.to_csv(f\"{path2data}msr_paraphrase_train-new.csv\", index=False, sep='\\t')"
   ],
   "outputs": [],
   "metadata": {}
  },
  {
   "cell_type": "code",
   "execution_count": null,
   "source": [
    "df = pd.read_csv(f\"{path2data}msr_paraphrase_train.csv\", sep='\\t')\r\n",
    "len(df.index)"
   ],
   "outputs": [],
   "metadata": {}
  },
  {
   "cell_type": "code",
   "execution_count": null,
   "source": [
    "df = pd.read_csv(f\"{path2data}msr_paraphrase_train-new.csv\", sep='\\t')\r\n",
    "len(df.index)"
   ],
   "outputs": [],
   "metadata": {}
  },
  {
   "cell_type": "code",
   "execution_count": null,
   "source": [
    "df = pd.read_csv(f\"{path2data}msr_paraphrase_dev.csv\", sep='\\t')\r\n",
    "len(df.index)"
   ],
   "outputs": [],
   "metadata": {}
  },
  {
   "cell_type": "markdown",
   "source": [
    "## Vector Dataset"
   ],
   "metadata": {}
  },
  {
   "cell_type": "markdown",
   "source": [
    "Paths below are not valid, since they refer to Vector Informatik GmbH internal data."
   ],
   "metadata": {}
  },
  {
   "cell_type": "code",
   "execution_count": 139,
   "source": [
    "path2data = \"../vector_data_set.csv\""
   ],
   "outputs": [],
   "metadata": {}
  },
  {
   "cell_type": "code",
   "execution_count": null,
   "source": [
    "df = pd.read_csv(path2data, sep=\"|\")\r\n",
    "train, dev, test = np.split(df.sample(frac=1, random_state=42), \r\n",
    "                       [int(.8*len(df)), int(.9*len(df))])  # partition: 80 - 10 - 10\r\n",
    "colnames = list(df)\r\n",
    "colnames"
   ],
   "outputs": [],
   "metadata": {}
  },
  {
   "cell_type": "code",
   "execution_count": 141,
   "source": [
    "def string_correction(s):\r\n",
    "    return (' '.join(s.split()))"
   ],
   "outputs": [],
   "metadata": {}
  },
  {
   "cell_type": "markdown",
   "source": [
    "### Train split"
   ],
   "metadata": {}
  },
  {
   "cell_type": "code",
   "execution_count": null,
   "source": [
    "trainlist = train.values.tolist()\r\n",
    "len(train.index) == len(trainlist)\r\n",
    "trainlist[1]"
   ],
   "outputs": [],
   "metadata": {}
  },
  {
   "cell_type": "code",
   "execution_count": null,
   "source": [
    "for row in trainlist:\r\n",
    "    textA = row[1]; textB = row[2]\r\n",
    "    row[1] = string_correction(textA)\r\n",
    "    row[2] = string_correction(textB)\r\n",
    "trainlist[1]"
   ],
   "outputs": [],
   "metadata": {}
  },
  {
   "cell_type": "code",
   "execution_count": 99,
   "source": [
    "with open('../vector_trainfile.csv', 'w', newline='') as outcsv:\r\n",
    "    writer = csv.writer(outcsv)\r\n",
    "    writer.writerow(colnames)\r\n",
    "    for row in trainlist:\r\n",
    "        writer.writerow(row)"
   ],
   "outputs": [],
   "metadata": {}
  },
  {
   "cell_type": "markdown",
   "source": [
    "### Dev split"
   ],
   "metadata": {}
  },
  {
   "cell_type": "code",
   "execution_count": null,
   "source": [
    "devlist = dev.values.tolist()\r\n",
    "len(dev.index) == len(devlist)\r\n",
    "# should be True"
   ],
   "outputs": [],
   "metadata": {}
  },
  {
   "cell_type": "code",
   "execution_count": 87,
   "source": [
    "for row in devlist:\r\n",
    "    textA = row[1]; textB = row[2]\r\n",
    "    row[1] = string_correction(textA)\r\n",
    "    row[2] = string_correction(textB)"
   ],
   "outputs": [],
   "metadata": {}
  },
  {
   "cell_type": "code",
   "execution_count": 97,
   "source": [
    "with open('../vector_devfile.csv', 'w', newline='') as outcsv:\r\n",
    "    writer = csv.writer(outcsv)\r\n",
    "    writer.writerow(colnames)\r\n",
    "    for row in devlist:\r\n",
    "        writer.writerow(row)"
   ],
   "outputs": [],
   "metadata": {}
  },
  {
   "cell_type": "markdown",
   "source": [
    "### Test split"
   ],
   "metadata": {}
  },
  {
   "cell_type": "code",
   "execution_count": null,
   "source": [
    "testlist = test.values.tolist()\r\n",
    "len(test.index) == len(testlist)\r\n",
    "# should be True"
   ],
   "outputs": [],
   "metadata": {}
  },
  {
   "cell_type": "code",
   "execution_count": 90,
   "source": [
    "for row in testlist:\r\n",
    "    textA = row[1]; textB = row[2]\r\n",
    "    row[1] = string_correction(textA)\r\n",
    "    row[2] = string_correction(textB)"
   ],
   "outputs": [],
   "metadata": {}
  },
  {
   "cell_type": "code",
   "execution_count": 96,
   "source": [
    "with open('../vector_testfile.csv', 'w', newline='') as outcsv:\r\n",
    "    writer = csv.writer(outcsv)\r\n",
    "    writer.writerow(colnames)\r\n",
    "    for row in testlist:\r\n",
    "        writer.writerow(row)"
   ],
   "outputs": [],
   "metadata": {}
  },
  {
   "cell_type": "markdown",
   "source": [
    "### Open CSV as DF"
   ],
   "metadata": {}
  },
  {
   "cell_type": "code",
   "execution_count": null,
   "source": [
    "split = 'test'  # 'dev'  'test'\r\n",
    "path2data = f\"../vector_{split}file.csv\"\r\n",
    "df = pd.read_csv(path2data, sep=\",\")\r\n",
    "df.head()"
   ],
   "outputs": [],
   "metadata": {}
  }
 ],
 "metadata": {
  "kernelspec": {
   "name": "python3",
   "display_name": "Python 3.9.6 64-bit"
  },
  "language_info": {
   "codemirror_mode": {
    "name": "ipython",
    "version": 3
   },
   "file_extension": ".py",
   "mimetype": "text/x-python",
   "name": "python",
   "nbconvert_exporter": "python",
   "pygments_lexer": "ipython3",
   "version": "3.9.6"
  },
  "interpreter": {
   "hash": "0a3bcf64d640c2a3c89f7d47986c3e79eede0e7023dd8ac77f4d471d86c5354c"
  }
 },
 "nbformat": 4,
 "nbformat_minor": 4
}